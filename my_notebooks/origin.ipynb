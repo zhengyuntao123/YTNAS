{
 "cells": [
  {
   "cell_type": "code",
   "execution_count": 1,
   "id": "86b440c2",
   "metadata": {},
   "outputs": [],
   "source": [
    "import os, pickle, sys\n",
    "import matplotlib.pyplot as plt\n",
    "from scipy import stats\n",
    "import numpy as np\n",
    "import glob\n",
    "from prettytable import PrettyTable\n",
    "from tqdm import tqdm"
   ]
  },
  {
   "cell_type": "code",
   "execution_count": 3,
   "id": "11e86519",
   "metadata": {},
   "outputs": [
    {
     "name": "stdout",
     "output_type": "stream",
     "text": [
      "../results_release/nasbench2/nb2_cf10_seed42_dlrandom_dlinfo1_initwnone_initbnone.p 15625\n",
      "{'i': 0, 'arch': '|avg_pool_3x3~0|+|nor_conv_1x1~0|skip_connect~1|+|nor_conv_1x1~0|skip_connect~1|skip_connect~2|', 'logmeasures': {'grad_norm': 3.2280678749084473, 'snip': 5.514030933380127, 'grasp': -0.1634197235107422, 'fisher': 0.004466889891773462, 'jacob_cov': -151.3307806940146, 'plain': 0.028314922004938126, 'synflow_bn': 16.958625670825334, 'synflow': 1.9405668633541168e+17}, 'trainacc': 88.91866665852865, 'valacc': 81.98266665690103, 'testacc': 81.52}\n",
      "+---------+-----------+-------+-------+--------+---------+-----------+\n",
      "| Dataset | grad_norm |  snip | grasp | fisher | synflow | jacob_cov |\n",
      "+---------+-----------+-------+-------+--------+---------+-----------+\n",
      "| CIFAR10 |   0.594   | 0.596 | 0.514 |  0.36  |  0.737  |   0.731   |\n",
      "+---------+-----------+-------+-------+--------+---------+-----------+\n"
     ]
    }
   ],
   "source": [
    "t=None\n",
    "all_ds = {}\n",
    "all_acc = {}\n",
    "allc = {}\n",
    "all_metrics = {}\n",
    "all_runs = {}\n",
    "metric_names = ['grad_norm', 'snip', 'grasp', 'fisher', 'synflow', 'jacob_cov']\n",
    "for fname,rname in [('../results_release/nasbench2/nb2_cf10_seed42_dlrandom_dlinfo1_initwnone_initbnone.p','CIFAR10')]:\n",
    "    runs=[]\n",
    "    f = open(fname,'rb')\n",
    "    while(1):\n",
    "        try:\n",
    "            runs.append(pickle.load(f))\n",
    "        except EOFError:\n",
    "            break\n",
    "    f.close()\n",
    "    print(fname, len(runs))\n",
    "    print(runs[0])\n",
    "    \n",
    "    all_runs[fname]=runs\n",
    "    all_ds[fname] = {}\n",
    "    metrics={}\n",
    "    for k in metric_names:\n",
    "        metrics[k] = []\n",
    "    acc = []\n",
    "    \n",
    "    if t is None:\n",
    "        hl=['Dataset']\n",
    "        hl.extend(metric_names)\n",
    "        t = PrettyTable(hl)\n",
    "    \n",
    "    for r in runs:\n",
    "        for k,v in r['logmeasures'].items():\n",
    "            if k in metrics:\n",
    "                metrics[k].append(v)\n",
    "        acc.append(r['testacc'])\n",
    "        \n",
    "    all_ds[fname]['metrics'] = metrics\n",
    "    all_ds[fname]['acc'] = acc\n",
    "\n",
    "    res = []\n",
    "    crs = {}\n",
    "    for k in hl:\n",
    "        if k=='Dataset':\n",
    "            continue\n",
    "        v = metrics[k]\n",
    "        cr = abs(stats.spearmanr(acc,v,nan_policy='omit').correlation)\n",
    "        #print(f'{k} = {cr}')\n",
    "        res.append(round(cr,3))\n",
    "        crs[k]=cr\n",
    "    \n",
    "    ds = rname\n",
    "    all_acc[ds]=acc\n",
    "    allc[ds]=crs\n",
    "    t.add_row([ds]+res)\n",
    "      \n",
    "    all_metrics[ds] = metrics\n",
    "print(t)"
   ]
  },
  {
   "cell_type": "code",
   "execution_count": 8,
   "id": "8eeff7aa",
   "metadata": {},
   "outputs": [
    {
     "name": "stdout",
     "output_type": "stream",
     "text": [
      "origin_cr: 0.7367344450455346\n"
     ]
    }
   ],
   "source": [
    "print(\"origin_cr:\",crs['synflow'])"
   ]
  },
  {
   "cell_type": "code",
   "execution_count": null,
   "id": "ee0ee2fa",
   "metadata": {},
   "outputs": [],
   "source": []
  }
 ],
 "metadata": {
  "kernelspec": {
   "display_name": "Python 3 (ipykernel)",
   "language": "python",
   "name": "python3"
  },
  "language_info": {
   "codemirror_mode": {
    "name": "ipython",
    "version": 3
   },
   "file_extension": ".py",
   "mimetype": "text/x-python",
   "name": "python",
   "nbconvert_exporter": "python",
   "pygments_lexer": "ipython3",
   "version": "3.9.12"
  }
 },
 "nbformat": 4,
 "nbformat_minor": 5
}
