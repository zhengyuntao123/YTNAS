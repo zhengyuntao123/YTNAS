{
 "cells": [
  {
   "cell_type": "code",
   "execution_count": 1,
   "id": "29b91701",
   "metadata": {},
   "outputs": [],
   "source": [
    "import os, pickle, sys\n",
    "import matplotlib.pyplot as plt\n",
    "from scipy import stats\n",
    "import numpy as np\n",
    "import glob\n",
    "from prettytable import PrettyTable\n",
    "from tqdm import tqdm\n",
    "from torch.utils.data import Dataset\n",
    "\n",
    "import torch\n",
    "from torch import nn\n",
    "from torch.nn import Linear,Sequential\n",
    "from torch.utils.data import DataLoader\n",
    "import torch.nn.functional as func\n",
    "import time\n",
    "from math import isnan,isinf,log,exp\n",
    "import random"
   ]
  },
  {
   "cell_type": "code",
   "execution_count": 2,
   "id": "6ad42c1f",
   "metadata": {},
   "outputs": [
    {
     "name": "stdout",
     "output_type": "stream",
     "text": [
      "try to create the NAS-Bench-201 api from ../data/NAS-Bench-201-v1_0-e61699.pth\n"
     ]
    }
   ],
   "source": [
    "from nas_201_api import NASBench201API as API\n",
    "api = API('../data/NAS-Bench-201-v1_0-e61699.pth')\n",
    "api.verbose = False"
   ]
  },
  {
   "cell_type": "code",
   "execution_count": 3,
   "id": "3b569fd7",
   "metadata": {},
   "outputs": [],
   "source": [
    "torch.set_default_dtype(torch.float64)\n",
    "class zyt(nn.Module):\n",
    "    def __init__(self):\n",
    "        super(zyt,self).__init__()\n",
    "        self.model1=Sequential(\n",
    "            nn.LayerNorm(188),\n",
    "            Linear(188,128),\n",
    "            #nn.BatchNorm1d(128),\n",
    "            nn.ReLU(),\n",
    "            #nn.Dropout(p=0.2),\n",
    "            Linear(128,64),\n",
    "#             nn.BatchNorm1d(64),\n",
    "            nn.ReLU(),\n",
    "            Linear(64,10),\n",
    "            nn.ReLU(),\n",
    "           #nn.Dropout(p=0.5),\n",
    "            Linear(10,1),             \n",
    "            nn.Sigmoid()\n",
    "        )\n",
    "    \n",
    "    def forward(self,x):\n",
    "        x=self.model1(x)\n",
    "        return x\n",
    "zyt1=zyt()\n",
    "zyt1.load_state_dict(torch.load(\"../my_model/zyt1_woBN_full.pth\"))\n",
    "zyt1=zyt1.cuda()"
   ]
  },
  {
   "cell_type": "code",
   "execution_count": 4,
   "id": "8f31f2a8",
   "metadata": {},
   "outputs": [
    {
     "name": "stdout",
     "output_type": "stream",
     "text": [
      "../myp/CIFAR100_tensors.p 15625\n"
     ]
    },
    {
     "name": "stderr",
     "output_type": "stream",
     "text": [
      "C:\\Users\\Administrator\\AppData\\Local\\Temp\\ipykernel_22132\\4239828888.py:23: UserWarning: Creating a tensor from a list of numpy.ndarrays is extremely slow. Please consider converting the list to a single numpy.ndarray with numpy.array() before converting to a tensor. (Triggered internally at  C:\\cb\\pytorch_1000000000000\\work\\torch\\csrc\\utils\\tensor_new.cpp:204.)\n",
      "  x_data_cifar100=torch.tensor([item.cpu().detach().numpy() for item in x_data_cifar100],dtype=torch.float64).cuda()\n"
     ]
    }
   ],
   "source": [
    "fname=r'../myp/CIFAR100_tensors.p'\n",
    "rname='CIFAR100'\n",
    "# fname=r'../myp/ImageNet_tensors.p'\n",
    "# rname='ImageNet16-120'\n",
    "# fname=r'../myp/tensors.p'\n",
    "# rname='CIFAR10'\n",
    "runs_cifar100=[]\n",
    "f = open(fname,'rb')\n",
    "while(1):\n",
    "    try:\n",
    "        runs_cifar100.append(pickle.load(f))\n",
    "    except EOFError:\n",
    "        break\n",
    "f.close()\n",
    "print(fname, len(runs_cifar100))\n",
    "x_data_cifar100=[]\n",
    "y_data_cifar100=[]\n",
    "for idx in range(len(runs_cifar100)):\n",
    "    temp=runs_cifar100[idx]['logmeasures']['synflow']\n",
    "    temp=torch.tensor(temp,dtype=torch.float64)\n",
    "    x_data_cifar100.append(temp)\n",
    "    y_data_cifar100.append(runs_cifar100[idx]['testacc'])\n",
    "x_data_cifar100=torch.tensor([item.cpu().detach().numpy() for item in x_data_cifar100],dtype=torch.float64).cuda()\n",
    "y_data_cifar100=torch.tensor(y_data_cifar100,dtype=torch.float64)\n",
    "y_data_cifar100=y_data_cifar100/100"
   ]
  },
  {
   "cell_type": "code",
   "execution_count": 5,
   "id": "759608cb",
   "metadata": {},
   "outputs": [],
   "source": [
    "model_proxy_cifar100=zyt1(x_data_cifar100)\n",
    "model_proxy_cifar100=torch.reshape(model_proxy_cifar100,(len(model_proxy_cifar100),))\n",
    "model_proxy_cifar100=model_proxy_cifar100.cpu().detach().numpy()"
   ]
  },
  {
   "cell_type": "code",
   "execution_count": 6,
   "id": "337233d5",
   "metadata": {},
   "outputs": [],
   "source": [
    "synflow_proxy=[]\n",
    "f = open('../results_release/nasbench2/nb2_cf100_seed42_dlrandom_dlinfo1_initwnone_initbnone.p','rb')\n",
    "while(1):\n",
    "    try:\n",
    "        d = pickle.load(f)\n",
    "        synflow_proxy.append(d['logmeasures']['synflow'])\n",
    "    except EOFError:\n",
    "        break\n",
    "f.close()"
   ]
  },
  {
   "cell_type": "code",
   "execution_count": null,
   "id": "04eee2b1",
   "metadata": {},
   "outputs": [],
   "source": []
  }
 ],
 "metadata": {
  "kernelspec": {
   "display_name": "Python 3 (ipykernel)",
   "language": "python",
   "name": "python3"
  },
  "language_info": {
   "codemirror_mode": {
    "name": "ipython",
    "version": 3
   },
   "file_extension": ".py",
   "mimetype": "text/x-python",
   "name": "python",
   "nbconvert_exporter": "python",
   "pygments_lexer": "ipython3",
   "version": "3.9.12"
  }
 },
 "nbformat": 4,
 "nbformat_minor": 5
}
